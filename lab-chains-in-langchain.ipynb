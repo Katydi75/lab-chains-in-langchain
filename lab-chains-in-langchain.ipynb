{
 "cells": [
  {
   "cell_type": "markdown",
   "id": "52824b89-532a-4e54-87e9-1410813cd39e",
   "metadata": {},
   "source": [
    "# Lab | Chains in LangChain\n",
    "\n",
    "## Outline\n",
    "\n",
    "* LLMChain\n",
    "* Sequential Chains\n",
    "  * SimpleSequentialChain\n",
    "  * SequentialChain\n",
    "* Router Chain"
   ]
  },
  {
   "cell_type": "code",
   "execution_count": 1,
   "id": "541eb2f1",
   "metadata": {},
   "outputs": [],
   "source": [
    "import warnings\n",
    "warnings.filterwarnings('ignore')"
   ]
  },
  {
   "cell_type": "code",
   "execution_count": 2,
   "id": "b7ed03ed-1322-49e3-b2a2-33e94fb592ef",
   "metadata": {
    "tags": []
   },
   "outputs": [],
   "source": [
    "import os\n",
    "\n",
    "from dotenv import load_dotenv, find_dotenv\n",
    "_ = load_dotenv(find_dotenv())\n",
    "\n",
    "OPENAI_API_KEY  = os.getenv('OPENAI_API_KEY')\n",
    "HUGGINGFACEHUB_API_TOKEN = os.getenv('HUGGINGFACEHUB_API_TOKEN')"
   ]
  },
  {
   "cell_type": "code",
   "execution_count": 3,
   "id": "b84e441b",
   "metadata": {
    "tags": []
   },
   "outputs": [],
   "source": [
    "#!pip install pandas"
   ]
  },
  {
   "cell_type": "code",
   "execution_count": 11,
   "id": "974acf8e-8f88-42de-88f8-40a82cb58e8b",
   "metadata": {
    "tags": []
   },
   "outputs": [
    {
     "name": "stdout",
     "output_type": "stream",
     "text": [
      "                     Product  \\\n",
      "0       Queen Size Sheet Set   \n",
      "1     Waterproof Phone Pouch   \n",
      "2        Luxury Air Mattress   \n",
      "3             Pillows Insert   \n",
      "4  Milk Frother Handheld\\r\\n   \n",
      "\n",
      "                                              Review  \n",
      "0  I ordered a king size set. My only criticism w...  \n",
      "1  I loved the waterproof sac, although the openi...  \n",
      "2  This mattress had a small hole in the top of i...  \n",
      "3  This is the best throw pillow fillers on Amazo...  \n",
      "4   I loved this product. But they only seem to l...  \n"
     ]
    }
   ],
   "source": [
    "import pandas as pd\n",
    "df = pd.read_csv(r\"C:\\Users\\katyd\\Downloads\\LangChain\\lab-chains-in-langchain\\Data.csv\")\n",
    "print(df.head())"
   ]
  },
  {
   "cell_type": "code",
   "execution_count": 12,
   "id": "b7a09c35",
   "metadata": {
    "tags": []
   },
   "outputs": [
    {
     "data": {
      "application/vnd.microsoft.datawrangler.viewer.v0+json": {
       "columns": [
        {
         "name": "index",
         "rawType": "int64",
         "type": "integer"
        },
        {
         "name": "Product",
         "rawType": "object",
         "type": "string"
        },
        {
         "name": "Review",
         "rawType": "object",
         "type": "string"
        }
       ],
       "ref": "d4388d15-c4d0-40c1-9780-378db9f315fa",
       "rows": [
        [
         "0",
         "Queen Size Sheet Set",
         "I ordered a king size set. My only criticism would be that I wish seller would offer the king size set with 4 pillowcases. I separately ordered a two pack of pillowcases so I could have a total of four. When I saw the two packages, it looked like the color did not exactly match. Customer service was excellent about sending me two more pillowcases so I would have four that matched. Excellent! For the cost of these sheets, I am satisfied with the characteristics and coolness of the sheets."
        ],
        [
         "1",
         "Waterproof Phone Pouch",
         "I loved the waterproof sac, although the opening was made of a hard plastic. I don’t know if that would break easily. But I couldn’t turn my phone on, once it was in the pouch."
        ],
        [
         "2",
         "Luxury Air Mattress",
         "This mattress had a small hole in the top of it (took forever to find where it was), and the patches that they provide did not work, maybe because it's the top of the mattress where it's kind of like fabric and a patch won't stick. Maybe I got unlucky with a defective mattress, but where's quality assurance for this company? That flat out should not happen. Emphasis on flat. Cause that's what the mattress was. Seriously horrible experience, ruined my friend's stay with me. Then they make you ship it back instead of just providing a refund, which is also super annoying to pack up an air mattress and take it to the UPS store. This company is the worst, and this mattress is the worst."
        ],
        [
         "3",
         "Pillows Insert",
         "This is the best throw pillow fillers on Amazon. I’ve tried several others, and they’re all cheap and flat no matter how much fluffing you do. Once you toss these in the dryer after you remove them from the vacuum sealed shipping material, they fluff up great"
        ],
        [
         "4",
         "Milk Frother Handheld\r\n",
         " I loved this product. But they only seem to last a few months. The company was great replacing the first one (the frother falls out of the handle and can't be fixed). The after 4 months my second one did the same. I only use the frother for coffee once a day. It's not overuse or abuse. I'm very disappointed and will look for another. As I understand they will only replace once. Anyway, if you have one good luck."
        ]
       ],
       "shape": {
        "columns": 2,
        "rows": 5
       }
      },
      "text/html": [
       "<div>\n",
       "<style scoped>\n",
       "    .dataframe tbody tr th:only-of-type {\n",
       "        vertical-align: middle;\n",
       "    }\n",
       "\n",
       "    .dataframe tbody tr th {\n",
       "        vertical-align: top;\n",
       "    }\n",
       "\n",
       "    .dataframe thead th {\n",
       "        text-align: right;\n",
       "    }\n",
       "</style>\n",
       "<table border=\"1\" class=\"dataframe\">\n",
       "  <thead>\n",
       "    <tr style=\"text-align: right;\">\n",
       "      <th></th>\n",
       "      <th>Product</th>\n",
       "      <th>Review</th>\n",
       "    </tr>\n",
       "  </thead>\n",
       "  <tbody>\n",
       "    <tr>\n",
       "      <th>0</th>\n",
       "      <td>Queen Size Sheet Set</td>\n",
       "      <td>I ordered a king size set. My only criticism w...</td>\n",
       "    </tr>\n",
       "    <tr>\n",
       "      <th>1</th>\n",
       "      <td>Waterproof Phone Pouch</td>\n",
       "      <td>I loved the waterproof sac, although the openi...</td>\n",
       "    </tr>\n",
       "    <tr>\n",
       "      <th>2</th>\n",
       "      <td>Luxury Air Mattress</td>\n",
       "      <td>This mattress had a small hole in the top of i...</td>\n",
       "    </tr>\n",
       "    <tr>\n",
       "      <th>3</th>\n",
       "      <td>Pillows Insert</td>\n",
       "      <td>This is the best throw pillow fillers on Amazo...</td>\n",
       "    </tr>\n",
       "    <tr>\n",
       "      <th>4</th>\n",
       "      <td>Milk Frother Handheld\\r\\n</td>\n",
       "      <td>I loved this product. But they only seem to l...</td>\n",
       "    </tr>\n",
       "  </tbody>\n",
       "</table>\n",
       "</div>"
      ],
      "text/plain": [
       "                     Product  \\\n",
       "0       Queen Size Sheet Set   \n",
       "1     Waterproof Phone Pouch   \n",
       "2        Luxury Air Mattress   \n",
       "3             Pillows Insert   \n",
       "4  Milk Frother Handheld\\r\\n   \n",
       "\n",
       "                                              Review  \n",
       "0  I ordered a king size set. My only criticism w...  \n",
       "1  I loved the waterproof sac, although the openi...  \n",
       "2  This mattress had a small hole in the top of i...  \n",
       "3  This is the best throw pillow fillers on Amazo...  \n",
       "4   I loved this product. But they only seem to l...  "
      ]
     },
     "execution_count": 12,
     "metadata": {},
     "output_type": "execute_result"
    }
   ],
   "source": [
    "df.head()"
   ]
  },
  {
   "cell_type": "markdown",
   "id": "b940ce7c",
   "metadata": {},
   "source": [
    "## LLMChain"
   ]
  },
  {
   "cell_type": "code",
   "execution_count": 13,
   "id": "427e1119",
   "metadata": {},
   "outputs": [
    {
     "name": "stdout",
     "output_type": "stream",
     "text": [
      "Requirement already satisfied: langchain_community in c:\\users\\katyd\\anaconda3\\envs\\mon_env\\lib\\site-packages (0.3.29)\n",
      "Requirement already satisfied: langchain-core<2.0.0,>=0.3.75 in c:\\users\\katyd\\anaconda3\\envs\\mon_env\\lib\\site-packages (from langchain_community) (0.3.75)\n",
      "Requirement already satisfied: langchain<2.0.0,>=0.3.27 in c:\\users\\katyd\\anaconda3\\envs\\mon_env\\lib\\site-packages (from langchain_community) (0.3.27)\n",
      "Requirement already satisfied: SQLAlchemy<3,>=1.4 in c:\\users\\katyd\\anaconda3\\envs\\mon_env\\lib\\site-packages (from langchain_community) (2.0.43)\n",
      "Requirement already satisfied: requests<3,>=2.32.5 in c:\\users\\katyd\\anaconda3\\envs\\mon_env\\lib\\site-packages (from langchain_community) (2.32.5)\n",
      "Requirement already satisfied: PyYAML>=5.3 in c:\\users\\katyd\\anaconda3\\envs\\mon_env\\lib\\site-packages (from langchain_community) (6.0.2)\n",
      "Requirement already satisfied: aiohttp<4.0.0,>=3.8.3 in c:\\users\\katyd\\anaconda3\\envs\\mon_env\\lib\\site-packages (from langchain_community) (3.12.15)\n",
      "Requirement already satisfied: tenacity!=8.4.0,<10,>=8.1.0 in c:\\users\\katyd\\anaconda3\\envs\\mon_env\\lib\\site-packages (from langchain_community) (9.1.2)\n",
      "Requirement already satisfied: dataclasses-json<0.7,>=0.6.7 in c:\\users\\katyd\\anaconda3\\envs\\mon_env\\lib\\site-packages (from langchain_community) (0.6.7)\n",
      "Requirement already satisfied: pydantic-settings<3.0.0,>=2.10.1 in c:\\users\\katyd\\anaconda3\\envs\\mon_env\\lib\\site-packages (from langchain_community) (2.10.1)\n",
      "Requirement already satisfied: langsmith>=0.1.125 in c:\\users\\katyd\\anaconda3\\envs\\mon_env\\lib\\site-packages (from langchain_community) (0.4.21)\n",
      "Requirement already satisfied: httpx-sse<1.0.0,>=0.4.0 in c:\\users\\katyd\\anaconda3\\envs\\mon_env\\lib\\site-packages (from langchain_community) (0.4.1)\n",
      "Requirement already satisfied: numpy>=1.26.2 in c:\\users\\katyd\\anaconda3\\envs\\mon_env\\lib\\site-packages (from langchain_community) (2.3.2)\n",
      "Requirement already satisfied: aiohappyeyeballs>=2.5.0 in c:\\users\\katyd\\anaconda3\\envs\\mon_env\\lib\\site-packages (from aiohttp<4.0.0,>=3.8.3->langchain_community) (2.6.1)\n",
      "Requirement already satisfied: aiosignal>=1.4.0 in c:\\users\\katyd\\anaconda3\\envs\\mon_env\\lib\\site-packages (from aiohttp<4.0.0,>=3.8.3->langchain_community) (1.4.0)\n",
      "Requirement already satisfied: attrs>=17.3.0 in c:\\users\\katyd\\anaconda3\\envs\\mon_env\\lib\\site-packages (from aiohttp<4.0.0,>=3.8.3->langchain_community) (24.3.0)\n",
      "Requirement already satisfied: frozenlist>=1.1.1 in c:\\users\\katyd\\anaconda3\\envs\\mon_env\\lib\\site-packages (from aiohttp<4.0.0,>=3.8.3->langchain_community) (1.7.0)\n",
      "Requirement already satisfied: multidict<7.0,>=4.5 in c:\\users\\katyd\\anaconda3\\envs\\mon_env\\lib\\site-packages (from aiohttp<4.0.0,>=3.8.3->langchain_community) (6.6.4)\n",
      "Requirement already satisfied: propcache>=0.2.0 in c:\\users\\katyd\\anaconda3\\envs\\mon_env\\lib\\site-packages (from aiohttp<4.0.0,>=3.8.3->langchain_community) (0.3.2)\n",
      "Requirement already satisfied: yarl<2.0,>=1.17.0 in c:\\users\\katyd\\anaconda3\\envs\\mon_env\\lib\\site-packages (from aiohttp<4.0.0,>=3.8.3->langchain_community) (1.20.1)\n",
      "Requirement already satisfied: marshmallow<4.0.0,>=3.18.0 in c:\\users\\katyd\\anaconda3\\envs\\mon_env\\lib\\site-packages (from dataclasses-json<0.7,>=0.6.7->langchain_community) (3.26.1)\n",
      "Requirement already satisfied: typing-inspect<1,>=0.4.0 in c:\\users\\katyd\\anaconda3\\envs\\mon_env\\lib\\site-packages (from dataclasses-json<0.7,>=0.6.7->langchain_community) (0.9.0)\n",
      "Requirement already satisfied: langchain-text-splitters<1.0.0,>=0.3.9 in c:\\users\\katyd\\anaconda3\\envs\\mon_env\\lib\\site-packages (from langchain<2.0.0,>=0.3.27->langchain_community) (0.3.11)\n",
      "Requirement already satisfied: pydantic<3.0.0,>=2.7.4 in c:\\users\\katyd\\anaconda3\\envs\\mon_env\\lib\\site-packages (from langchain<2.0.0,>=0.3.27->langchain_community) (2.11.7)\n",
      "Requirement already satisfied: jsonpatch<2.0,>=1.33 in c:\\users\\katyd\\anaconda3\\envs\\mon_env\\lib\\site-packages (from langchain-core<2.0.0,>=0.3.75->langchain_community) (1.33)\n",
      "Requirement already satisfied: typing-extensions>=4.7 in c:\\users\\katyd\\anaconda3\\envs\\mon_env\\lib\\site-packages (from langchain-core<2.0.0,>=0.3.75->langchain_community) (4.12.2)\n",
      "Requirement already satisfied: packaging>=23.2 in c:\\users\\katyd\\anaconda3\\envs\\mon_env\\lib\\site-packages (from langchain-core<2.0.0,>=0.3.75->langchain_community) (25.0)\n",
      "Requirement already satisfied: jsonpointer>=1.9 in c:\\users\\katyd\\anaconda3\\envs\\mon_env\\lib\\site-packages (from jsonpatch<2.0,>=1.33->langchain-core<2.0.0,>=0.3.75->langchain_community) (3.0.0)\n",
      "Requirement already satisfied: annotated-types>=0.6.0 in c:\\users\\katyd\\anaconda3\\envs\\mon_env\\lib\\site-packages (from pydantic<3.0.0,>=2.7.4->langchain<2.0.0,>=0.3.27->langchain_community) (0.7.0)\n",
      "Requirement already satisfied: pydantic-core==2.33.2 in c:\\users\\katyd\\anaconda3\\envs\\mon_env\\lib\\site-packages (from pydantic<3.0.0,>=2.7.4->langchain<2.0.0,>=0.3.27->langchain_community) (2.33.2)\n",
      "Requirement already satisfied: typing-inspection>=0.4.0 in c:\\users\\katyd\\anaconda3\\envs\\mon_env\\lib\\site-packages (from pydantic<3.0.0,>=2.7.4->langchain<2.0.0,>=0.3.27->langchain_community) (0.4.1)\n",
      "Requirement already satisfied: python-dotenv>=0.21.0 in c:\\users\\katyd\\anaconda3\\envs\\mon_env\\lib\\site-packages (from pydantic-settings<3.0.0,>=2.10.1->langchain_community) (1.1.1)\n",
      "Requirement already satisfied: charset_normalizer<4,>=2 in c:\\users\\katyd\\anaconda3\\envs\\mon_env\\lib\\site-packages (from requests<3,>=2.32.5->langchain_community) (3.3.2)\n",
      "Requirement already satisfied: idna<4,>=2.5 in c:\\users\\katyd\\anaconda3\\envs\\mon_env\\lib\\site-packages (from requests<3,>=2.32.5->langchain_community) (3.7)\n",
      "Requirement already satisfied: urllib3<3,>=1.21.1 in c:\\users\\katyd\\anaconda3\\envs\\mon_env\\lib\\site-packages (from requests<3,>=2.32.5->langchain_community) (2.5.0)\n",
      "Requirement already satisfied: certifi>=2017.4.17 in c:\\users\\katyd\\anaconda3\\envs\\mon_env\\lib\\site-packages (from requests<3,>=2.32.5->langchain_community) (2025.8.3)\n",
      "Requirement already satisfied: greenlet>=1 in c:\\users\\katyd\\anaconda3\\envs\\mon_env\\lib\\site-packages (from SQLAlchemy<3,>=1.4->langchain_community) (3.2.4)\n",
      "Requirement already satisfied: mypy-extensions>=0.3.0 in c:\\users\\katyd\\anaconda3\\envs\\mon_env\\lib\\site-packages (from typing-inspect<1,>=0.4.0->dataclasses-json<0.7,>=0.6.7->langchain_community) (1.1.0)\n",
      "Requirement already satisfied: httpx<1,>=0.23.0 in c:\\users\\katyd\\anaconda3\\envs\\mon_env\\lib\\site-packages (from langsmith>=0.1.125->langchain_community) (0.28.1)\n",
      "Requirement already satisfied: orjson>=3.9.14 in c:\\users\\katyd\\anaconda3\\envs\\mon_env\\lib\\site-packages (from langsmith>=0.1.125->langchain_community) (3.11.3)\n",
      "Requirement already satisfied: requests-toolbelt>=1.0.0 in c:\\users\\katyd\\anaconda3\\envs\\mon_env\\lib\\site-packages (from langsmith>=0.1.125->langchain_community) (1.0.0)\n",
      "Requirement already satisfied: zstandard>=0.23.0 in c:\\users\\katyd\\anaconda3\\envs\\mon_env\\lib\\site-packages (from langsmith>=0.1.125->langchain_community) (0.24.0)\n",
      "Requirement already satisfied: anyio in c:\\users\\katyd\\anaconda3\\envs\\mon_env\\lib\\site-packages (from httpx<1,>=0.23.0->langsmith>=0.1.125->langchain_community) (4.7.0)\n",
      "Requirement already satisfied: httpcore==1.* in c:\\users\\katyd\\anaconda3\\envs\\mon_env\\lib\\site-packages (from httpx<1,>=0.23.0->langsmith>=0.1.125->langchain_community) (1.0.9)\n",
      "Requirement already satisfied: h11>=0.16 in c:\\users\\katyd\\anaconda3\\envs\\mon_env\\lib\\site-packages (from httpcore==1.*->httpx<1,>=0.23.0->langsmith>=0.1.125->langchain_community) (0.16.0)\n",
      "Requirement already satisfied: sniffio>=1.1 in c:\\users\\katyd\\anaconda3\\envs\\mon_env\\lib\\site-packages (from anyio->httpx<1,>=0.23.0->langsmith>=0.1.125->langchain_community) (1.3.0)\n"
     ]
    }
   ],
   "source": [
    "!pip install langchain_community"
   ]
  },
  {
   "cell_type": "code",
   "execution_count": 14,
   "id": "e92dff22",
   "metadata": {
    "tags": []
   },
   "outputs": [],
   "source": [
    "from langchain_openai import ChatOpenAI\n",
    "from langchain.prompts import ChatPromptTemplate\n",
    "from langchain.chains import LLMChain"
   ]
  },
  {
   "cell_type": "code",
   "execution_count": 15,
   "id": "943237a7",
   "metadata": {},
   "outputs": [],
   "source": [
    "#Replace None by your own value and justify\n",
    "llm = ChatOpenAI(temperature=None)\n"
   ]
  },
  {
   "cell_type": "code",
   "execution_count": 17,
   "id": "cdcdb42d",
   "metadata": {},
   "outputs": [],
   "source": [
    "prompt = ChatPromptTemplate.from_template( #Write a query that would take a variable to describe any product\n",
    "    \"What is the best way to market a product like {product}?\"\n",
    ")"
   ]
  },
  {
   "cell_type": "code",
   "execution_count": 18,
   "id": "d7abc20b",
   "metadata": {},
   "outputs": [
    {
     "name": "stderr",
     "output_type": "stream",
     "text": [
      "C:\\Users\\katyd\\AppData\\Local\\Temp\\ipykernel_27556\\546483037.py:1: LangChainDeprecationWarning: The class `LLMChain` was deprecated in LangChain 0.1.17 and will be removed in 1.0. Use :meth:`~RunnableSequence, e.g., `prompt | llm`` instead.\n",
      "  chain = LLMChain(llm=llm, prompt=prompt)\n"
     ]
    }
   ],
   "source": [
    "\n",
    "chain = LLMChain(llm=llm, prompt=prompt)"
   ]
  },
  {
   "cell_type": "code",
   "execution_count": 40,
   "id": "ad44d1fb",
   "metadata": {},
   "outputs": [
    {
     "data": {
      "text/plain": [
       "'1. Identify your target audience: Understand who your ideal customers are and tailor your marketing efforts towards their needs, preferences, and behaviors. Consider factors such as age, gender, interests, and geographic location.\\n\\n2. Showcase the benefits: Highlight the features and advantages of your bike, showcasing the convenience, comfort, durability, and style. Emphasize how your bike can improve the lives of your customers.\\n\\n3. Utilize social media: Use platforms like Instagram, Facebook, and Twitter to showcase your bike in action. Share engaging photos, videos, and customer testimonials to build credibility and attract a following.\\n\\n4. Collaborate with influencers: Partner with popular social media influencers, bloggers, or cyclists who can promote your bike to their followers. This can help increase brand awareness and credibility.\\n\\n5. Create engaging content: Develop informative and visually appealing content such as blog posts, videos, and infographics that highlight the unique features of your bike and offer valuable insights to your audience.\\n\\n6. Offer promotions and discounts: Encourage potential customers to try your bike by offering promotions, discounts, or bundle deals. This can help attract new customers and drive sales.\\n\\n7. Attend events and trade shows: Participate in cycling events, trade shows, and expos to showcase your bike to a targeted audience of cycling enthusiasts. This can help you connect with potential customers in person and build relationships within the cycling community.'"
      ]
     },
     "execution_count": 40,
     "metadata": {},
     "output_type": "execute_result"
    }
   ],
   "source": [
    "product = \"Wireless Bluetooth Headphones\"\n",
    "chain.run(product)\n",
    "\n",
    "product2 = \"AI E-learning course\"\n",
    "chain.run(product2)\n",
    "\n",
    "product3 = \"Bike\"\n",
    "chain.run(product3)\n"
   ]
  },
  {
   "cell_type": "markdown",
   "id": "69b03469",
   "metadata": {},
   "source": [
    "## SimpleSequentialChain"
   ]
  },
  {
   "cell_type": "code",
   "execution_count": 41,
   "id": "febee243",
   "metadata": {},
   "outputs": [],
   "source": [
    "from langchain.chains import SimpleSequentialChain"
   ]
  },
  {
   "cell_type": "code",
   "execution_count": 44,
   "id": "2f31aa8a",
   "metadata": {},
   "outputs": [
    {
     "name": "stdout",
     "output_type": "stream",
     "text": [
      "*********************\n",
      "*********************\n",
      "*********************\n"
     ]
    }
   ],
   "source": [
    "llm = ChatOpenAI(temperature=0.9)\n",
    "\n",
    "# prompt template 1\n",
    "first_prompt = ChatPromptTemplate.from_template(\n",
    "    \"What is the best way to market a product like {product}?\"\n",
    ")\n",
    "\n",
    "# Chain 1\n",
    "chain_one = LLMChain(llm=llm, prompt=first_prompt)\n",
    "\n",
    "print('*********************')\n",
    "\n",
    "# prompt template 3\n",
    "third_prompt = ChatPromptTemplate.from_template(\n",
    "    \"What is the best way to market a product like {product}?\"\n",
    ")\n",
    "\n",
    "# Chain 3\n",
    "chain_three = LLMChain(llm=llm, prompt=third_prompt)\n",
    "\n",
    "print('*********************')\n",
    "# prompt template 5\n",
    "fifth_prompt = ChatPromptTemplate.from_template(\n",
    "    \"What is the best way to market a product like {product}?\"\n",
    ")\n",
    "\n",
    "# Chain 5\n",
    "chain_five = LLMChain(llm=llm, prompt=fifth_prompt)\n",
    "\n",
    "print('*********************')"
   ]
  },
  {
   "cell_type": "code",
   "execution_count": 45,
   "id": "3f5d5b76",
   "metadata": {},
   "outputs": [
    {
     "name": "stdout",
     "output_type": "stream",
     "text": [
      "*********************\n",
      "*********************\n"
     ]
    }
   ],
   "source": [
    "\n",
    "# prompt template 2\n",
    "second_prompt = ChatPromptTemplate.from_template(\n",
    "    \"Explain the benefits of {product}?\"\n",
    ")\n",
    "# chain 2\n",
    "chain_two = LLMChain(llm=llm, prompt=second_prompt)\n",
    "\n",
    "print('*********************')\n",
    "# prompt template 4\n",
    "fourth_prompt = ChatPromptTemplate.from_template(\n",
    "    \"What is the best way to market a product like {product}?\"\n",
    ")\n",
    "# chain 4\n",
    "chain_four = LLMChain(llm=llm, prompt=fourth_prompt)\n",
    "\n",
    "print('*********************')\n",
    "# prompt template 6\n",
    "sixth_prompt = ChatPromptTemplate.from_template(\n",
    "    \"What is the best way to market a product like {product}?\"\n",
    ")\n",
    "# chain 6\n",
    "chain_six = LLMChain(llm=llm, prompt=sixth_prompt)\n"
   ]
  },
  {
   "cell_type": "code",
   "execution_count": 46,
   "id": "6c1eb2c4",
   "metadata": {},
   "outputs": [],
   "source": [
    "overall_simple_chain1 = SimpleSequentialChain(chains=[chain_one, chain_two],\n",
    "                                             verbose=True\n",
    "                                            )"
   ]
  },
  {
   "cell_type": "code",
   "execution_count": 47,
   "id": "731d3d3a",
   "metadata": {},
   "outputs": [],
   "source": [
    "overall_simple_chain2 = SimpleSequentialChain(chains=[chain_three, chain_four],\n",
    "                                             verbose=True\n",
    "                                            )"
   ]
  },
  {
   "cell_type": "code",
   "execution_count": 48,
   "id": "f336b054",
   "metadata": {},
   "outputs": [],
   "source": [
    "overall_simple_chain3 = SimpleSequentialChain(chains=[chain_five, chain_six],\n",
    "                                             verbose=True\n",
    "                                            )"
   ]
  },
  {
   "cell_type": "code",
   "execution_count": 49,
   "id": "78458efe",
   "metadata": {},
   "outputs": [
    {
     "name": "stdout",
     "output_type": "stream",
     "text": [
      "\n",
      "\n",
      "\u001b[1m> Entering new SimpleSequentialChain chain...\u001b[0m\n",
      "\u001b[36;1m\u001b[1;3m1. Utilize social media platforms: Create engaging and visually appealing posts on platforms like Instagram, Facebook, and Twitter. Use targeted advertisements to reach potential customers interested in wireless headphones.\n",
      "\n",
      "2. Collaborate with influencers: Partner with influencers in the tech or music industry to promote your product to their followers. Influencers can provide authentic and trusted recommendations to their audience.\n",
      "\n",
      "3. Offer promotions and discounts: Sales, promotions, and discounts can attract customers who are on the fence about purchasing wireless headphones. Consider offering bundle deals or limited-time offers to drive sales.\n",
      "\n",
      "4. Create compelling product videos: Showcasing the features and benefits of your wireless headphones through product demonstration videos can help customers understand the value of your product.\n",
      "\n",
      "5. Utilize email marketing: Build an email list of interested customers and send out newsletters with product updates, promotions, and other relevant information. Personalize the emails to cater to the interests and needs of your subscribers.\n",
      "\n",
      "6. Utilize SEO strategies: Optimize your website and product pages for search engines to improve visibility and attract organic traffic. Use relevant keywords and create high-quality content to rank higher in search results.\n",
      "\n",
      "7. Partner with retailers: Collaborate with retailers to sell your wireless headphones in-store or online. This can help increase the reach of your product and expose it to a wider audience.\n",
      "\n",
      "8. Gather customer reviews and testimonials: Encourage satisfied customers to leave reviews and testimonials about your wireless headphones. Positive reviews can build trust and credibility with potential buyers.\u001b[0m\n",
      "\u001b[33;1m\u001b[1;3m1. Utilizing social media platforms allows you to reach a large audience, engage with potential customers, and showcase the unique features of your wireless headphones. Targeted advertisements can help you reach customers who are specifically interested in wireless headphones, increasing the chances of conversion.\n",
      "\n",
      "2. Collaborating with influencers gives your brand credibility and exposure to a wider audience. Their followers trust their recommendations, making it more likely for them to consider purchasing your product.\n",
      "\n",
      "3. Offering promotions and discounts can incentivize customers to make a purchase, leading to increased sales and brand loyalty. It can also help attract new customers who may have been hesitant to try your product at full price.\n",
      "\n",
      "4. Compelling product videos can visually show potential customers the benefits and functionalities of your wireless headphones, making it easier for them to make a purchasing decision.\n",
      "\n",
      "5. Email marketing is a direct way to communicate with interested customers and keep them updated on your product offerings. Personalized emails can help build a relationship with customers and encourage repeat purchases.\n",
      "\n",
      "6. Utilizing SEO strategies can improve your website's visibility in search engine results, making it easier for customers to find your product when searching online. This can lead to increased website traffic and potential sales.\n",
      "\n",
      "7. Partnering with retailers can help expose your wireless headphones to a larger audience who may not have been aware of your brand. It also gives customers the option to purchase your product in a physical store, increasing convenience.\n",
      "\n",
      "8. Customer reviews and testimonials can build trust and credibility for your brand. Positive reviews act as social proof and can influence potential customers to make a purchase. Gathering feedback can also help you improve your product and customer experience.\u001b[0m\n",
      "\n",
      "\u001b[1m> Finished chain.\u001b[0m\n",
      "\n",
      "\n",
      "\u001b[1m> Entering new SimpleSequentialChain chain...\u001b[0m\n",
      "\u001b[36;1m\u001b[1;3m1. Identify your target audience: Understand who your potential customers are and what they are looking for in an AI E-learning course. This will help you tailor your marketing strategies to appeal to their needs and interests.\n",
      "\n",
      "2. Utilize social media: Create engaging content on platforms like LinkedIn, Twitter, and Facebook to promote your course. Use targeted ads to reach potential customers who are interested in AI or online learning.\n",
      "\n",
      "3. Collaborate with influencers: Partner with industry experts or influencers in the field of AI to promote your course. Their endorsement can help build credibility and trust among your target audience.\n",
      "\n",
      "4. Offer free trials or discounts: Provide a limited-time free trial or a discounted rate for early adopters to encourage people to try out your course. This can help generate buzz and attract new customers.\n",
      "\n",
      "5. Create compelling content: Develop informative and compelling content that highlights the benefits of your AI E-learning course. This can include blog posts, videos, and webinars that showcase the value of your course.\n",
      "\n",
      "6. Utilize SEO: Optimize your website and content for search engines to improve visibility and attract organic traffic. Use relevant keywords and phrases related to AI E-learning to increase your chances of appearing in search results.\n",
      "\n",
      "7. Partner with educational institutions: Collaborate with universities, colleges, or professional organizations to promote your course to their students or members. This can help you reach a wider audience and establish credibility in the industry.\n",
      "\n",
      "8. Offer certifications: Provide certification upon completion of your AI E-learning course to attract professionals looking to enhance their skills and credentials. This can be a valuable selling point for potential customers.\n",
      "\n",
      "9. Gather customer testimonials: Collect reviews and testimonials from satisfied customers to showcase the effectiveness and quality of your course. Positive feedback can help build trust and encourage others to enroll in your program.\n",
      "\n",
      "10. Monitor and analyze results: Track the performance of your marketing campaigns and analyze data to identify what strategies are working best. Adjust your approach accordingly to optimize your marketing efforts and drive more enrollments for your AI E-learning course.\u001b[0m\n",
      "\u001b[33;1m\u001b[1;3m\n",
      "\n",
      "By following these ten steps, you can effectively market your AI E-learning course to your target audience and maximize its reach and impact. Remember to continually assess and adjust your strategies based on feedback and data to ensure the success of your marketing efforts.\u001b[0m\n",
      "\n",
      "\u001b[1m> Finished chain.\u001b[0m\n",
      "\n",
      "\n",
      "\u001b[1m> Entering new SimpleSequentialChain chain...\u001b[0m\n",
      "\u001b[36;1m\u001b[1;3m1. Identify your target audience: Determine who is most likely to be interested in purchasing a bike, such as cyclists, outdoor enthusiasts, fitness enthusiasts, etc.\n",
      "\n",
      "2. Utilize social media: Create engaging content on platforms like Instagram, Facebook, and Twitter to showcase your product and increase brand awareness.\n",
      "\n",
      "3. Partner with influencers: Collaborate with individuals who have a strong online following and appeal to your target audience to promote your product.\n",
      "\n",
      "4. Offer promotions and discounts: Entice potential customers with special offers, sales, or rewards programs to increase sales.\n",
      "\n",
      "5. Attend events and sponsorships: Participate in biking events, trade shows, or sponsor local biking clubs to engage with your target audience in person.\n",
      "\n",
      "6. Create compelling marketing materials: Develop visually appealing advertisements, videos, and product photos to showcase the benefits and features of your bike.\n",
      "\n",
      "7. Build a strong brand identity: Establish a unique and memorable brand image that resonates with your target audience and sets your product apart from competitors.\n",
      "\n",
      "8. Utilize SEO and digital marketing: Optimize your website for search engines and invest in online advertising to increase visibility and drive traffic to your website.\n",
      "\n",
      "9. Collect customer reviews and testimonials: Encourage satisfied customers to leave reviews and testimonials to build credibility and trust with potential buyers.\n",
      "\n",
      "10. Provide excellent customer service: Ensure a positive customer experience by offering responsive and helpful support before and after the sale.\u001b[0m\n",
      "\u001b[33;1m\u001b[1;3m\n",
      "\n",
      "Implementing these strategies will help you effectively market your bike product and reach your target audience. By identifying your target demographic, engaging with them on social media, utilizing influencers, offering promotions, attending events, creating compelling marketing materials, building a strong brand identity, utilizing SEO and digital marketing, collecting customer reviews, and providing excellent customer service, you can increase visibility and drive sales for your product. Consistent and strategic marketing efforts will help you stand out in a competitive market and attract customers to your bike product.\u001b[0m\n",
      "\n",
      "\u001b[1m> Finished chain.\u001b[0m\n"
     ]
    },
    {
     "data": {
      "text/plain": [
       "'\\n\\nImplementing these strategies will help you effectively market your bike product and reach your target audience. By identifying your target demographic, engaging with them on social media, utilizing influencers, offering promotions, attending events, creating compelling marketing materials, building a strong brand identity, utilizing SEO and digital marketing, collecting customer reviews, and providing excellent customer service, you can increase visibility and drive sales for your product. Consistent and strategic marketing efforts will help you stand out in a competitive market and attract customers to your bike product.'"
      ]
     },
     "execution_count": 49,
     "metadata": {},
     "output_type": "execute_result"
    }
   ],
   "source": [
    "overall_simple_chain1.run(product)\n",
    "overall_simple_chain2.run(product2)\n",
    "overall_simple_chain3.run(product3)"
   ]
  },
  {
   "cell_type": "markdown",
   "id": "0dd59bda-9d02-44e7-b3d6-2bec61b99d8f",
   "metadata": {},
   "source": [
    "**Repeat the above twice for different products**"
   ]
  },
  {
   "cell_type": "markdown",
   "id": "7b5ce18c",
   "metadata": {},
   "source": [
    "## SequentialChain"
   ]
  },
  {
   "cell_type": "code",
   "execution_count": 50,
   "id": "4c129ef6",
   "metadata": {},
   "outputs": [],
   "source": [
    "from langchain.chains import SequentialChain"
   ]
  },
  {
   "cell_type": "code",
   "execution_count": 72,
   "id": "8074b57a",
   "metadata": {},
   "outputs": [],
   "source": [
    "from langchain_openai import ChatOpenAI\n",
    "from langchain.prompts import ChatPromptTemplate\n",
    "from langchain.chains import LLMChain, SequentialChain\n",
    "\n",
    "llm = ChatOpenAI(temperature=0.9)\n",
    "\n",
    "# 1) English rewrite/translation of the original review\n",
    "p_en = ChatPromptTemplate.from_template(\n",
    "    \"Rewrite/translate this customer review into clear English:\\n\\n{review}\"\n",
    ")\n",
    "chain_one = LLMChain(llm=llm, prompt=p_en, output_key=\"English_Review\")\n",
    "\n",
    "# 2) Summary of the English text\n",
    "p_sum = ChatPromptTemplate.from_template(\n",
    "    \"Summarize the following review in at most 10 words:\\n\\n{English_Review}\"\n",
    ")\n",
    "chain_two = LLMChain(llm=llm, prompt=p_sum, output_key=\"Summary\")\n",
    "\n",
    "# 3) French translation of the original review\n",
    "p_fr = ChatPromptTemplate.from_template(\n",
    "    \"Translate the following customer review into French:\\n\\n{review}\"\n",
    ")\n",
    "chain_three = LLMChain(llm=llm, prompt=p_fr, output_key=\"French_Translation\")\n",
    "\n",
    "# 4) French follow-up message using Summary + French translation\n",
    "p_fu = ChatPromptTemplate.from_template(\n",
    "    \"Write a friendly follow-up to the customer in French (2–3 sentences). \"\n",
    "    \"Include the summary and offer help.\\n\\nSummary: {Summary}\\n\\nReview (FR): {French_Translation}\"\n",
    ")\n",
    "chain_four = LLMChain(llm=llm, prompt=p_fu, output_key=\"FollowUpMessage\")\n",
    "\n",
    "overall_chain = SequentialChain(\n",
    "    chains=[chain_one, chain_two, chain_three, chain_four],\n",
    "    input_variables=[\"review\"],  # must match your prompt variables (case-sensitive)\n",
    "    output_variables=[\"English_Review\", \"Summary\", \"French_Translation\", \"FollowUpMessage\"],\n",
    "    verbose=True\n",
    ")\n"
   ]
  },
  {
   "cell_type": "code",
   "execution_count": 73,
   "id": "89603117",
   "metadata": {},
   "outputs": [],
   "source": [
    "# expected outputs:\n",
    "# chain_one   -> output_key=\"English_Review\"\n",
    "# chain_two   -> output_key=\"Summary\"\n",
    "# chain_three -> output_key=\"French_Translation\"\n",
    "# chain_four  -> output_key=\"FollowUpMessage\"\n",
    "\n",
    "overall_chain = SequentialChain(\n",
    "    chains=[chain_one, chain_two, chain_three, chain_four],\n",
    "    input_variables=[\"review\"],  # use the same casing as in your prompts {review}\n",
    "    output_variables=[\"English_Review\", \"French_Translation\", \"Summary\", \"FollowUpMessage\"],\n",
    "    verbose=True\n",
    ")\n",
    "# overall_chain: input= Review"
   ]
  },
  {
   "cell_type": "code",
   "execution_count": 74,
   "id": "51b04f45",
   "metadata": {},
   "outputs": [
    {
     "name": "stderr",
     "output_type": "stream",
     "text": [
      "C:\\Users\\katyd\\AppData\\Local\\Temp\\ipykernel_27556\\1992003631.py:2: LangChainDeprecationWarning: The method `Chain.__call__` was deprecated in langchain 0.1.0 and will be removed in 1.0. Use :meth:`~invoke` instead.\n",
      "  overall_chain(review)\n"
     ]
    },
    {
     "name": "stdout",
     "output_type": "stream",
     "text": [
      "\n",
      "\n",
      "\u001b[1m> Entering new SequentialChain chain...\u001b[0m\n",
      "\n",
      "\u001b[1m> Finished chain.\u001b[0m\n"
     ]
    },
    {
     "data": {
      "text/plain": [
       "{'review': \"Je trouve le goût médiocre. La mousse ne tient pas, c'est bizarre. J'achète les mêmes dans le commerce et le goût est bien meilleur...\\r\\nVieux lot ou contrefaçon !?\",\n",
       " 'English_Review': \"I find the taste mediocre. The foam doesn't hold, it's strange. I buy the same ones in stores and the taste is much better... Old batch or counterfeit!?\",\n",
       " 'French_Translation': \"I find the taste mediocre. The foam does not hold, it's strange. I buy the same ones in stores and the taste is much better... Old batch or counterfeit!?\",\n",
       " 'Summary': \"Mediocre taste, foam doesn't hold, possibly old or counterfeit batch.\",\n",
       " 'FollowUpMessage': \"Cher client, nous sommes désolés d'apprendre que vous n'avez pas été satisfait de notre produit. Nous vous assurons que nous prendrons des mesures pour résoudre ce problème. Si vous avez besoin d'aide supplémentaire, n'hésitez pas à nous contacter. Merci pour votre retour!\"}"
      ]
     },
     "execution_count": 74,
     "metadata": {},
     "output_type": "execute_result"
    }
   ],
   "source": [
    "review = df.Review[5]\n",
    "overall_chain(review)"
   ]
  },
  {
   "cell_type": "markdown",
   "id": "3187cf07-458a-4226-bec7-3dec7ee47af2",
   "metadata": {},
   "source": [
    "**Repeat the above twice for different products or reviews**"
   ]
  },
  {
   "cell_type": "markdown",
   "id": "3041ea4c",
   "metadata": {},
   "source": [
    "## Router Chain"
   ]
  },
  {
   "cell_type": "code",
   "execution_count": 75,
   "id": "ade83f4f",
   "metadata": {},
   "outputs": [],
   "source": [
    "physics_template = \"\"\"You are a very smart physics professor. \\\n",
    "You are great at answering questions about physics in a concise\\\n",
    "and easy to understand manner. \\\n",
    "When you don't know the answer to a question you admit\\\n",
    "that you don't know.\n",
    "\n",
    "Here is a question:\n",
    "{input}\"\"\"\n",
    "\n",
    "\n",
    "math_template = \"\"\"You are a very good mathematician. \\\n",
    "You are great at answering math questions. \\\n",
    "You are so good because you are able to break down \\\n",
    "hard problems into their component parts, \n",
    "answer the component parts, and then put them together\\\n",
    "to answer the broader question.\n",
    "\n",
    "Here is a question:\n",
    "{input}\"\"\"\n",
    "\n",
    "history_template = \"\"\"You are a very good historian. \\\n",
    "You have an excellent knowledge of and understanding of people,\\\n",
    "events and contexts from a range of historical periods. \\\n",
    "You have the ability to think, reflect, debate, discuss and \\\n",
    "evaluate the past. You have a respect for historical evidence\\\n",
    "and the ability to make use of it to support your explanations \\\n",
    "and judgements.\n",
    "\n",
    "Here is a question:\n",
    "{input}\"\"\"\n",
    "\n",
    "\n",
    "computerscience_template = \"\"\" You are a successful computer scientist.\\\n",
    "You have a passion for creativity, collaboration,\\\n",
    "forward-thinking, confidence, strong problem-solving capabilities,\\\n",
    "understanding of theories and algorithms, and excellent communication \\\n",
    "skills. You are great at answering coding questions. \\\n",
    "You are so good because you know how to solve a problem by \\\n",
    "describing the solution in imperative steps \\\n",
    "that a machine can easily interpret and you know how to \\\n",
    "choose a solution that has a good balance between \\\n",
    "time complexity and space complexity. \n",
    "\n",
    "Here is a question:\n",
    "{input}\"\"\"\n",
    "\n",
    "biology_template = \"\"\"You are an excellent biologist. \\\n",
    "You have a deep understanding of living organisms, \\\n",
    "from the molecular and cellular level to entire ecosystems. \\\n",
    "You are skilled at observing patterns in nature, analyzing biological data, \\\n",
    "and explaining complex processes like evolution, genetics, physiology, and ecology. \\\n",
    "You can clearly communicate how life functions and adapts, \\\n",
    "and you make connections between different biological concepts \\\n",
    "to answer challenging questions.\n",
    "\n",
    "Here is a question:\n",
    "{input}\"\"\""
   ]
  },
  {
   "cell_type": "code",
   "execution_count": 76,
   "id": "5f590e9f",
   "metadata": {},
   "outputs": [],
   "source": [
    "prompt_infos = [\n",
    "    {\n",
    "        \"name\": \"physics\", \n",
    "        \"description\": \"Good for answering questions about physics\", \n",
    "        \"prompt_template\": physics_template\n",
    "    },\n",
    "    {\n",
    "        \"name\": \"math\", \n",
    "        \"description\": \"Good for answering math questions\", \n",
    "        \"prompt_template\": math_template\n",
    "    },\n",
    "    {\n",
    "        \"name\": \"History\", \n",
    "        \"description\": \"Good for answering history questions\", \n",
    "        \"prompt_template\": history_template\n",
    "    },\n",
    "    {\n",
    "        \"name\": \"computer science\", \n",
    "        \"description\": \"Good for answering computer science questions\", \n",
    "        \"prompt_template\": computerscience_template\n",
    "    },\n",
    "    {\n",
    "        \"name\": \"biology\",\n",
    "        \"description\": \"Good for answering biology questions\",\n",
    "        \"prompt_template\": biology_template\n",
    "    }\n",
    "]"
   ]
  },
  {
   "cell_type": "code",
   "execution_count": 77,
   "id": "31b06fc8",
   "metadata": {},
   "outputs": [],
   "source": [
    "from langchain.chains.router import MultiPromptChain\n",
    "from langchain.chains.router.llm_router import LLMRouterChain,RouterOutputParser\n",
    "from langchain.prompts import PromptTemplate"
   ]
  },
  {
   "cell_type": "code",
   "execution_count": 78,
   "id": "f3f50bcc",
   "metadata": {},
   "outputs": [],
   "source": [
    "llm = ChatOpenAI(temperature=0)"
   ]
  },
  {
   "cell_type": "code",
   "execution_count": 79,
   "id": "8eefec24",
   "metadata": {},
   "outputs": [],
   "source": [
    "destination_chains = {}\n",
    "for p_info in prompt_infos:\n",
    "    name = p_info[\"name\"]\n",
    "    prompt_template = p_info[\"prompt_template\"]\n",
    "    prompt = ChatPromptTemplate.from_template(template=prompt_template)\n",
    "    chain = LLMChain(llm=llm, prompt=prompt)\n",
    "    destination_chains[name] = chain  \n",
    "    \n",
    "destinations = [f\"{p['name']}: {p['description']}\" for p in prompt_infos]\n",
    "destinations_str = \"\\n\".join(destinations)"
   ]
  },
  {
   "cell_type": "code",
   "execution_count": 80,
   "id": "9f98018a",
   "metadata": {},
   "outputs": [],
   "source": [
    "default_prompt = ChatPromptTemplate.from_template(\"{input}\")\n",
    "default_chain = LLMChain(llm=llm, prompt=default_prompt)"
   ]
  },
  {
   "cell_type": "code",
   "execution_count": 82,
   "id": "11b2e2ba",
   "metadata": {},
   "outputs": [],
   "source": [
    "MULTI_PROMPT_ROUTER_TEMPLATE = \"\"\"Given a raw text input to a \\\n",
    "language model select the model prompt best suited for the input. \\\n",
    "You will be given the names of the available prompts and a \\\n",
    "description of what the prompt is best suited for. \\\n",
    "You may also revise the original input if you think that revising\\\n",
    "it will ultimately lead to a better response from the language model.\n",
    "\n",
    "<< FORMATTING >>\n",
    "Return a markdown code snippet with a JSON object formatted to look like:\n",
    "```json\n",
    "{{{{\n",
    "    \"destination\": string \\ name of the prompt to use or \"DEFAULT\"\n",
    "    \"next_inputs\": string \\ a potentially modified version of the original input\n",
    "}}}}\n",
    "```\n",
    "\n",
    "REMEMBER: \"destination\" MUST be one of the candidate prompt \\\n",
    "names specified below OR it can be \"DEFAULT\" if the input is not\\\n",
    "well suited for any of the candidate prompts.\n",
    "REMEMBER: \"next_inputs\" can just be the original input \\\n",
    "if you don't think any modifications are needed.\n",
    "\n",
    "<< CANDIDATE PROMPTS >>\n",
    "{destinations}\n",
    "\n",
    "<< INPUT >>\n",
    "{{input}}\n",
    "\n",
    "<< OUTPUT (remember to include the ```json)>>\"\"\""
   ]
  },
  {
   "cell_type": "code",
   "execution_count": 83,
   "id": "1387109d",
   "metadata": {},
   "outputs": [],
   "source": [
    "router_template = MULTI_PROMPT_ROUTER_TEMPLATE.format(\n",
    "    destinations=destinations_str\n",
    ")\n",
    "router_prompt = PromptTemplate(\n",
    "    template=router_template,\n",
    "    input_variables=[\"input\"],\n",
    "    output_parser=RouterOutputParser(),\n",
    ")\n",
    "\n",
    "router_chain = LLMRouterChain.from_llm(llm, router_prompt)"
   ]
  },
  {
   "cell_type": "code",
   "execution_count": 84,
   "id": "2fb7d560",
   "metadata": {},
   "outputs": [
    {
     "name": "stderr",
     "output_type": "stream",
     "text": [
      "C:\\Users\\katyd\\AppData\\Local\\Temp\\ipykernel_27556\\3038952769.py:1: LangChainDeprecationWarning: Please see migration guide here for recommended implementation: https://python.langchain.com/docs/versions/migrating_chains/multi_prompt_chain/\n",
      "  chain = MultiPromptChain(router_chain=router_chain,\n"
     ]
    }
   ],
   "source": [
    "chain = MultiPromptChain(router_chain=router_chain, \n",
    "                         destination_chains=destination_chains, \n",
    "                         default_chain=default_chain, verbose=True\n",
    "                        )"
   ]
  },
  {
   "cell_type": "code",
   "execution_count": 85,
   "id": "d86b2131",
   "metadata": {},
   "outputs": [
    {
     "name": "stdout",
     "output_type": "stream",
     "text": [
      "\n",
      "\n",
      "\u001b[1m> Entering new MultiPromptChain chain...\u001b[0m\n",
      "physics: {'input': 'What is black body radiation?'}\n",
      "\u001b[1m> Finished chain.\u001b[0m\n"
     ]
    },
    {
     "data": {
      "text/plain": [
       "\"Black body radiation refers to the electromagnetic radiation emitted by a perfect black body, which is an idealized physical body that absorbs all incident electromagnetic radiation. The radiation emitted by a black body depends only on its temperature and follows a specific distribution known as Planck's law. This radiation is characterized by a continuous spectrum of wavelengths and intensities, with the peak intensity shifting to shorter wavelengths as the temperature of the black body increases. Black body radiation plays a key role in understanding concepts such as thermal radiation and the quantization of energy in quantum mechanics.\""
      ]
     },
     "execution_count": 85,
     "metadata": {},
     "output_type": "execute_result"
    }
   ],
   "source": [
    "chain.run(\"What is black body radiation?\")"
   ]
  },
  {
   "cell_type": "code",
   "execution_count": 86,
   "id": "3b717379",
   "metadata": {},
   "outputs": [
    {
     "name": "stdout",
     "output_type": "stream",
     "text": [
      "\n",
      "\n",
      "\u001b[1m> Entering new MultiPromptChain chain...\u001b[0m\n",
      "math: {'input': 'what is 2 + 2'}\n",
      "\u001b[1m> Finished chain.\u001b[0m\n"
     ]
    },
    {
     "data": {
      "text/plain": [
       "'2 + 2 is equal to 4.'"
      ]
     },
     "execution_count": 86,
     "metadata": {},
     "output_type": "execute_result"
    }
   ],
   "source": [
    "chain.run(\"what is 2 + 2\")"
   ]
  },
  {
   "cell_type": "code",
   "execution_count": 87,
   "id": "29e5be01",
   "metadata": {},
   "outputs": [
    {
     "name": "stdout",
     "output_type": "stream",
     "text": [
      "\n",
      "\n",
      "\u001b[1m> Entering new MultiPromptChain chain...\u001b[0m\n",
      "biology: {'input': 'Why does every cell in our body contain DNA?'}\n",
      "\u001b[1m> Finished chain.\u001b[0m\n"
     ]
    },
    {
     "data": {
      "text/plain": [
       "\"Every cell in our body contains DNA because DNA is the genetic material that carries the instructions for the development, functioning, and reproduction of all living organisms. DNA contains the information needed to build and maintain an organism, including the proteins that make up our cells and tissues. \\n\\nHaving DNA in every cell ensures that each cell has the necessary genetic information to carry out its specific functions and to replicate itself accurately during cell division. This ensures that the genetic information is passed on to the next generation of cells, maintaining the integrity and continuity of the organism's genetic code.\\n\\nAdditionally, DNA serves as a storage system for genetic information that can be accessed and utilized by cells as needed. This allows for the regulation of gene expression, the repair of damaged DNA, and the adaptation to changing environmental conditions.\\n\\nIn summary, every cell in our body contains DNA because it is essential for the proper functioning and survival of all living organisms.\""
      ]
     },
     "execution_count": 87,
     "metadata": {},
     "output_type": "execute_result"
    }
   ],
   "source": [
    "chain.run(\"Why does every cell in our body contain DNA?\")"
   ]
  },
  {
   "cell_type": "markdown",
   "id": "09e0c60b-7ae0-453e-9467-142d8dafee6e",
   "metadata": {},
   "source": [
    "**Repeat the above at least once for different inputs and chains executions - Be creative!**"
   ]
  }
 ],
 "metadata": {
  "kernelspec": {
   "display_name": "Python (mon_env)",
   "language": "python",
   "name": "mon_env"
  },
  "language_info": {
   "codemirror_mode": {
    "name": "ipython",
    "version": 3
   },
   "file_extension": ".py",
   "mimetype": "text/x-python",
   "name": "python",
   "nbconvert_exporter": "python",
   "pygments_lexer": "ipython3",
   "version": "3.11.13"
  }
 },
 "nbformat": 4,
 "nbformat_minor": 5
}
